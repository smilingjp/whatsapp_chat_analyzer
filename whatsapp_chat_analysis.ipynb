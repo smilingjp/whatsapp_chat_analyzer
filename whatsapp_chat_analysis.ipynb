{
 "cells": [
  {
   "cell_type": "code",
   "execution_count": 2,
   "id": "e3c3a782-e47d-4edc-9312-76e76416518e",
   "metadata": {},
   "outputs": [],
   "source": [
    "import re        #regular expression"
   ]
  },
  {
   "cell_type": "raw",
   "id": "ba1810b7-b0e0-48c0-a1ed-b847f0665bc8",
   "metadata": {},
   "source": []
  }
 ],
 "metadata": {
  "kernelspec": {
   "display_name": "Python 3 (ipykernel)",
   "language": "python",
   "name": "python3"
  },
  "language_info": {
   "codemirror_mode": {
    "name": "ipython",
    "version": 3
   },
   "file_extension": ".py",
   "mimetype": "text/x-python",
   "name": "python",
   "nbconvert_exporter": "python",
   "pygments_lexer": "ipython3",
   "version": "3.12.2"
  }
 },
 "nbformat": 4,
 "nbformat_minor": 5
}
